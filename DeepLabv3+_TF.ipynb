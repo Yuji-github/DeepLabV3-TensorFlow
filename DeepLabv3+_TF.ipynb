{
  "nbformat": 4,
  "nbformat_minor": 0,
  "metadata": {
    "colab": {
      "name": "DeepLabv3+_TF.ipynb",
      "provenance": [],
      "collapsed_sections": [],
      "authorship_tag": "ABX9TyOQ1w5UJ4/Cm4JLgj4Y2Kam",
      "include_colab_link": true
    },
    "kernelspec": {
      "name": "python3",
      "display_name": "Python 3"
    },
    "language_info": {
      "name": "python"
    },
    "accelerator": "GPU"
  },
  "cells": [
    {
      "cell_type": "markdown",
      "metadata": {
        "id": "view-in-github",
        "colab_type": "text"
      },
      "source": [
        "<a href=\"https://colab.research.google.com/github/Yuji-github/DeepLabV3-TensorFlow/blob/main/DeepLabv3%2B_TF.ipynb\" target=\"_parent\"><img src=\"https://colab.research.google.com/assets/colab-badge.svg\" alt=\"Open In Colab\"/></a>"
      ]
    },
    {
      "cell_type": "code",
      "metadata": {
        "colab": {
          "base_uri": "https://localhost:8080/"
        },
        "id": "iiu6iSWgsW6R",
        "outputId": "882d5f55-fdbb-4d98-e19d-6b66537a7611"
      },
      "source": [
        "import glob, os\n",
        "import numpy as np\n",
        "from PIL import Image\n",
        "import cv2\n",
        "import matplotlib.pyplot as plt\n",
        "from sklearn.model_selection import train_test_split\n",
        "import random\n",
        "\n",
        "import tensorflow as tf\n",
        "from tensorflow.keras.layers import Input, Conv2D, BatchNormalization, Activation, Concatenate, UpSampling2D, AveragePooling2D\n",
        "from tensorflow.keras.models import Model\n",
        "from tensorflow.keras.optimizers import Adam\n",
        "from tensorflow.keras.applications import ResNet50\n",
        "from tensorflow.data import Dataset, AUTOTUNE\n",
        "from keras.callbacks import LearningRateScheduler, ReduceLROnPlateau\n",
        "\n",
        "from google.colab import drive\n",
        "drive.mount('/content/drive')\n",
        "%cd /content/drive/MyDrive/DeepLab/"
      ],
      "execution_count": 25,
      "outputs": [
        {
          "output_type": "stream",
          "name": "stdout",
          "text": [
            "Drive already mounted at /content/drive; to attempt to forcibly remount, call drive.mount(\"/content/drive\", force_remount=True).\n",
            "/content/drive/MyDrive/DeepLab\n"
          ]
        }
      ]
    },
    {
      "cell_type": "markdown",
      "metadata": {
        "id": "83LEPg_pySPc"
      },
      "source": [
        "For Data Loading"
      ]
    },
    {
      "cell_type": "code",
      "metadata": {
        "id": "Lv1AQzaqStHD"
      },
      "source": [
        "def read_image(path): \n",
        "  path = path.decode()  # without this, name is encoded like 'b'\n",
        "  image = cv2.imread(path, cv2.IMREAD_COLOR)\n",
        "  image = image / 255.0 # normalization \n",
        "  image = cv2.resize(image, (128, 128)) # resize to 128x128   \n",
        "  image = image.astype(np.float32) # (128, 128, 3)\n",
        "\n",
        "  return image"
      ],
      "execution_count": 2,
      "outputs": []
    },
    {
      "cell_type": "code",
      "metadata": {
        "id": "m-PnvrOzTNZN"
      },
      "source": [
        "def read_mask(path): \n",
        "  path = path.decode()  # without this, name is encoded like 'b'\n",
        "  mask = cv2.imread(path, cv2.IMREAD_GRAYSCALE) # (128, 128)\n",
        "  mask = mask / 255.0 # normalization \n",
        "  mask = cv2.resize(mask, (128, 128)) # resize to 128x128  \n",
        "  mask = mask.astype(np.float32)\n",
        "  mask = np.expand_dims(mask, axis= -1) # (128, 128, 1)  \n",
        "  \n",
        "  return mask"
      ],
      "execution_count": 3,
      "outputs": []
    },
    {
      "cell_type": "code",
      "metadata": {
        "id": "u8Nef8LqVA7k"
      },
      "source": [
        "def preprocess(image, mask): # map calls this function\n",
        "\n",
        "  def f(image, mask): # preprocess calls this function\n",
        "    \n",
        "    image = read_image(image) # params -> /content/drive/MyDrive/DeepLab/images/***.png \n",
        "    mask = read_mask(mask)\n",
        "    \n",
        "    return image, mask\n",
        "\n",
        "  images, masks = tf.numpy_function(f, [image, mask], [tf.float32, tf.float32])\n",
        "  images.set_shape([128, 128, 3]) # must match the first layer in deeplab\n",
        "  masks.set_shape([128, 128, 1]) # must match the last layer in deeplab\n",
        "\n",
        "  return  images, masks"
      ],
      "execution_count": 4,
      "outputs": []
    },
    {
      "cell_type": "code",
      "metadata": {
        "id": "M2tJ1rhTUpm-"
      },
      "source": [
        "def tf_dataset(image, mask, batch=2): # default batch is 8\n",
        "  dataset = tf.data.Dataset.from_tensor_slices((image, mask))\n",
        "  dataset = dataset.map(preprocess) # map needs function\n",
        "  dataset = dataset.batch(batch)\n",
        "  dataset = dataset.prefetch(10)\n",
        "\n",
        "  return dataset"
      ],
      "execution_count": 5,
      "outputs": []
    },
    {
      "cell_type": "code",
      "metadata": {
        "id": "74NRehM-xnu0"
      },
      "source": [
        "def data_load():\n",
        "  IMAGE_DIR = 'train_images'\n",
        "  MASK_DIR = 'train_masks'\n",
        "\n",
        "  imageList = []\n",
        "  maskList = []\n",
        "\n",
        "  for dirname, _, filenames in os.walk(IMAGE_DIR):\n",
        "      for filename in filenames:\n",
        "            imageList.append(os.path.join(dirname, filename))\n",
        "\n",
        "  for dirname, _, filenames in os.walk(MASK_DIR):\n",
        "      for filename in filenames:\n",
        "            maskList.append(os.path.join(dirname, filename))\n",
        "\n",
        "  imageList.sort() \n",
        "  maskList.sort()\n",
        "\n",
        "  dataset = tf_dataset(imageList, maskList, 8) # retunr is (16, 128, 128, 3) (16, 128, 128, 1)\n",
        "\n",
        "  return dataset"
      ],
      "execution_count": 6,
      "outputs": []
    },
    {
      "cell_type": "code",
      "metadata": {
        "id": "SDno9t4ldhXY"
      },
      "source": [
        "def val_data_load(): # val dataset has 16 images\n",
        "  IMAGE_DIR = 'val_images'\n",
        "  MASK_DIR = 'val_masks'\n",
        "\n",
        "  val_imageList = []\n",
        "  val_maskList = []\n",
        "\n",
        "  for dirname, _, filenames in os.walk(IMAGE_DIR):\n",
        "      for filename in filenames:\n",
        "            val_imageList.append(os.path.join(dirname, filename))\n",
        "\n",
        "  for dirname, _, filenames in os.walk(MASK_DIR):\n",
        "      for filename in filenames:\n",
        "            val_maskList.append(os.path.join(dirname, filename))\n",
        "\n",
        "  val_imageList.sort() \n",
        "  val_maskList.sort()\n",
        "\n",
        "  val_dataset = tf_dataset(val_imageList, val_maskList, 8) # retunr is (8, 128, 128, 3) (8, 128, 128, 1)\n",
        "\n",
        "  return val_dataset"
      ],
      "execution_count": 7,
      "outputs": []
    },
    {
      "cell_type": "markdown",
      "metadata": {
        "id": "jq8svsGzyOoN"
      },
      "source": [
        "DeepLabV3+"
      ]
    },
    {
      "cell_type": "code",
      "metadata": {
        "id": "KRMF4s8ZM7M5"
      },
      "source": [
        "def backbone(input_shape): \n",
        "  i= Input(input_shape)\n",
        "\n",
        "  backbone = ResNet50(include_top=False, input_tensor=i) # when you have a tensor that you want to be the input.\n",
        "  \n",
        "  return (i, backbone.get_layer('conv4_block6_out').output, backbone.get_layer('conv2_block3_out').output)  # the last Resnet for encoding, other's for decoding layers are going back "
      ],
      "execution_count": 8,
      "outputs": []
    },
    {
      "cell_type": "code",
      "metadata": {
        "id": "vBfHSj2hVVWu"
      },
      "source": [
        "def ASPP(input_shape): \n",
        "\n",
        "  pool_size = (input_shape.shape[1], input_shape.shape[2]) # assume (8, 8)\n",
        "  # ASPP Part\n",
        "\n",
        "  # --- Image Pooling ----\n",
        "  image_pool = AveragePooling2D(pool_size)(input_shape) # after this layer: (None, 1, 1, 2048)\n",
        "  image_pool = Conv2D(128, (1,1), padding='same', use_bias=False)(image_pool)\n",
        "  image_pool = BatchNormalization()(image_pool)\n",
        "  iamge_pool = Activation('relu')(image_pool) # after this layer: (None, 1, 1, 128)\n",
        "  image_pool = UpSampling2D(pool_size, interpolation='bilinear')(iamge_pool) # after this layer: (None, 8, 8, 128)\n",
        "\n",
        "  # --- 1x1 Conv ----\n",
        "  one = Conv2D(128, (1,1), padding='same', use_bias=False)(input_shape)\n",
        "  one = BatchNormalization()(one)\n",
        "  one = Activation('relu')(one) # after this layer: (None, 8, 8, 128)\n",
        "\n",
        "  # --- 3x3 Conv Rate 6 ----\n",
        "  rate_6 = Conv2D(128, (3,3), padding='same', use_bias=False, dilation_rate=6)(input_shape) # dilation_rate = 6 is key step \n",
        "  rate_6 = BatchNormalization()(rate_6)\n",
        "  rate_6 = Activation('relu')(rate_6) # after this layer: (None, 8, 8, 128)\n",
        "\n",
        "  # --- 3x3 Conv Rate 12 ----\n",
        "  rate_12 = Conv2D(128, (3,3), padding='same', use_bias=False, dilation_rate=12)(input_shape) # dilation_rate = 12 is key step \n",
        "  rate_12 = BatchNormalization()(rate_12)\n",
        "  rate_12 = Activation('relu')(rate_12) # after this layer: (None, 8, 8, 128)\n",
        "\n",
        "  # --- 3x3 Conv Rate 18 ----\n",
        "  rate_18 = Conv2D(128, (3,3), padding='same', use_bias=False, dilation_rate=18)(input_shape) # dilation_rate = 18 is key step \n",
        "  rate_18 = BatchNormalization()(rate_18)\n",
        "  rate_18 = Activation('relu')(rate_18) # after this layer: (None, 8, 8, 128)\n",
        "\n",
        "\n",
        "  # After ASPP Part  \n",
        "  # --- Concatenate ---- *Make Sure all sizes are the same before Concatenation\n",
        "  aspp = Concatenate()([image_pool, one, rate_6, rate_12, rate_18]) # after this layer: (None, 8, 8, 640) 640 from 128 feature each * 5\n",
        "  \n",
        "  # --- 1x1 Conv for UpSamling ----\n",
        "  for_up = Conv2D(128, (1,1), padding='same', use_bias=False)(aspp)\n",
        "  for_up = BatchNormalization()(for_up)\n",
        "  for_up = Activation('relu')(for_up) # after this layer: (None, 8, 8, 128)\n",
        "\n",
        "  return for_up"
      ],
      "execution_count": 9,
      "outputs": []
    },
    {
      "cell_type": "code",
      "metadata": {
        "id": "-nadZRNj5jOV"
      },
      "source": [
        "def decoding(input_shape):  \n",
        "  decode_one = Conv2D(32, (1,1), padding='same', use_bias=False)(input_shape) # *output features are arbitrary\n",
        "  decode_one = BatchNormalization()(decode_one)\n",
        "  decode_one = Activation('relu')(decode_one) # after this layer: (None, 32, 32, 64)\n",
        "\n",
        "  return decode_one"
      ],
      "execution_count": 10,
      "outputs": []
    },
    {
      "cell_type": "code",
      "metadata": {
        "id": "s74ObM0_98t3"
      },
      "source": [
        "def deeplabv3(input_shape):\n",
        "  # step1: get input shape of images\n",
        "  i = input_shape # suppose layer shape is (128, 128, 3)\n",
        "\n",
        "  # --- Encoding Section ----\n",
        "\n",
        "  # step2: through backbone (Resnet50)\n",
        "  # we can replace this backbone ResNeSt in the future \n",
        "  i, encode_layer, decode_layer = backbone(i) # retun shapes: encode (None, 8, 8, 1024), decode (None, 32, 32, 256)\n",
        "\n",
        "  # step3: pass the encode_layer to ASPP \n",
        "  end_encoding_layer = ASPP(encode_layer)  \n",
        "   \n",
        "  # step3-2: UpSamling for Concatenation \n",
        "  end_encoding_layer = UpSampling2D((4, 4), interpolation='bilinear')(end_encoding_layer) # after this layer: (None, 32, 32, 128) \n",
        "\n",
        "\n",
        "  # --- Decoding Section ---- need to get the same shape from ResNet (None, 32, 32, 256)\n",
        "\n",
        "  # step4: Decoding and Concatenating  \n",
        "  decode_one = decoding(decode_layer) \n",
        "\n",
        "  # step5: Concatenation \n",
        "  mix_layer = Concatenate()([end_encoding_layer, decode_one]) # after this layer: (None, 32, 32, 320)\n",
        "\n",
        "\n",
        "  # --- Prepare Output Section ---- \n",
        "  # step6: 3x3 Conv (at least 1 block needs *output features are arbitrary)\n",
        "  three = Conv2D(128, (3,3), padding='same', use_bias=False)(mix_layer) # for 256 Conv2D(256, (3,3),\n",
        "  three = BatchNormalization()(three)\n",
        "  three = Activation('relu')(three)\n",
        "\n",
        "  three = Conv2D(128, (3,3), padding='same', use_bias=False)(three) # for 256 Conv2D(512, (3,3),\n",
        "  three = BatchNormalization()(three)\n",
        "  three = Activation('relu')(three) # after this layer (None, 32, 32, 512)\n",
        "\n",
        "  # step7: end of Deeplabv3 make sure out put size is the same as input size\n",
        "  end_layer = UpSampling2D((4, 4), interpolation='bilinear')(three) # after this layer (None, 128, 128, 512)\n",
        "\n",
        "  # --- Output Section ---- \n",
        "  output = Conv2D(1, (1,1))(end_layer)\n",
        "  output = Activation('sigmoid')(output) # (None, 128, 128, 1)\n",
        "  \n",
        "  # model summary and compile\n",
        "  return Model(i, output)"
      ],
      "execution_count": 11,
      "outputs": []
    },
    {
      "cell_type": "markdown",
      "metadata": {
        "id": "H77dKAGx-59M"
      },
      "source": [
        "Loss Function for Semantic Segmentation\n",
        "https://www.youtube.com/watch?v=AZr64OxshLo&t=785s More Info"
      ]
    },
    {
      "cell_type": "code",
      "metadata": {
        "id": "go8ggLzLCQ0I"
      },
      "source": [
        "def iou(y_true, y_pred):\n",
        "    def f(y_true, y_pred):\n",
        "        intersection = (y_true * y_pred).sum()\n",
        "        union = y_true.sum() + y_pred.sum() - intersection\n",
        "        x = (intersection + 1e-15) / (union + 1e-15)\n",
        "        x = x.astype(np.float32)\n",
        "        return x\n",
        "    return tf.numpy_function(f, [y_true, y_pred], tf.float32)"
      ],
      "execution_count": 12,
      "outputs": []
    },
    {
      "cell_type": "code",
      "metadata": {
        "id": "yWV-IzIFCRvm"
      },
      "source": [
        "def dice_coef(y_true, y_pred):\n",
        "    smooth = 1e-15\n",
        "    y_true = tf.keras.layers.Flatten()(y_true)\n",
        "    y_pred = tf.keras.layers.Flatten()(y_pred)\n",
        "    intersection = tf.reduce_sum(y_true * y_pred)\n",
        "    return (2. * intersection + smooth) / (tf.reduce_sum(y_true) + tf.reduce_sum(y_pred) + smooth)"
      ],
      "execution_count": 13,
      "outputs": []
    },
    {
      "cell_type": "code",
      "metadata": {
        "id": "waL3JoFufhF6"
      },
      "source": [
        "def dice_loss(y_true, y_pred): \n",
        "  # must be 1 - dice_coef for backpropagation\n",
        "  return 1 - dice_coef(y_true, y_pred) # 1- numerator/denominator"
      ],
      "execution_count": 14,
      "outputs": []
    },
    {
      "cell_type": "markdown",
      "metadata": {
        "id": "y-o-Eh0s-1Oa"
      },
      "source": [
        "Call Back"
      ]
    },
    {
      "cell_type": "code",
      "metadata": {
        "id": "cGmO4RtYkm6l"
      },
      "source": [
        "def lr_decay(epoch):\n",
        "    initial_learningrate=2e-3\n",
        "    if epoch < 2:\n",
        "        return initial_learningrate\n",
        "    else:\n",
        "        return initial_learningrate * 0.99 ** epoch"
      ],
      "execution_count": 15,
      "outputs": []
    },
    {
      "cell_type": "markdown",
      "metadata": {
        "id": "BJFaJVxOCoCk"
      },
      "source": [
        "Prediction (Vizulaization)"
      ]
    },
    {
      "cell_type": "code",
      "metadata": {
        "id": "y5yEhxOneA0E"
      },
      "source": [
        "def eval(deeplab):\n",
        "  IMAGE_DIR = '/content/drive/MyDrive/DeepLab/test_images/'\n",
        "  imageList = []\n",
        "\n",
        "  for dirname, _, filenames in os.walk(IMAGE_DIR):\n",
        "      for filename in filenames:\n",
        "            imageList.append(os.path.join(dirname, filename))\n",
        " \n",
        "  imageList.sort() \n",
        "  test_image = random.choice(imageList)\n",
        "  test_mask = test_image.replace('test_images', 'test_masks')\n",
        "\n",
        "  \"\"\" Getting an image \"\"\"\n",
        "  image = cv2.imread(test_image, cv2.IMREAD_COLOR) # RGB -> (512, 384, 3)\n",
        "  h, w, _ = image.shape # to back to the original size (predict_mask)\n",
        "  x = cv2.resize(image, (128, 128))\n",
        "  x = x/255.0 # normalization values are 0-1\n",
        "  x = x.astype(np.float32)\n",
        "  x = np.expand_dims(x, axis=0) # (1, 128, 128, 3)\n",
        "\n",
        "  \"\"\" Prediction the mask \"\"\"\n",
        "  y = deeplab.predict(x)[0] # (128, 128, 1) [0]-> drop off the first dim, this case 1\n",
        "  y = cv2.resize(y, (w, h)) # (384, 512)\n",
        "  y = np.expand_dims(y, axis=-1) # (384, 512, 1) to plot the image\n",
        "  masked_image = image * y # must do this part to get back the values becasue x/255 -> pred_y/255  \n",
        "  plt.subplot(1, 2, 1)\n",
        "  plt.imshow(masked_image)\n",
        "\n",
        "  t = test_mask\n",
        "  t_image = cv2.imread(t)\n",
        "  plt.subplot(1, 2, 2)\n",
        "  plt.imshow(t_image)"
      ],
      "execution_count": 32,
      "outputs": []
    },
    {
      "cell_type": "code",
      "metadata": {
        "id": "oyju_axfPK2O",
        "colab": {
          "base_uri": "https://localhost:8080/",
          "height": 1000
        },
        "outputId": "1e24bcc4-763b-4175-8805-835fc6af912a"
      },
      "source": [
        "if __name__ == \"__main__\":\n",
        "\n",
        " # -- Data Loading Section ---  \n",
        " dataset = data_load() # get 128x128 images (numpy, values[pixels] are between 0-1)\n",
        " val_data = val_data_load()\n",
        "\n",
        " # -- Building Model Section --- \n",
        " i = (128, 128, 3) \n",
        " deeplab = deeplabv3(i)\n",
        "\n",
        " # --- Compile Section ---- binary_entrophy is okay as masks are black and white, but not suitable \n",
        " deeplab.compile(optimizer=Adam(), loss=dice_loss, metrics=[dice_coef, iou])\n",
        " opt = Adam()  # for speed up\n",
        " loss_fn = dice_loss # for speed up\n",
        " # print(deeplab.summary()) # check neural networks  \n",
        "\n",
        " # --- Training Section ---\n",
        " model_callback = [\n",
        "        LearningRateScheduler(lr_decay, verbose=1),\n",
        "        ReduceLROnPlateau(monitor='val_loss', factor=0.1, patience=5, min_lr=1e-7, verbose=1),\n",
        "        ]\n",
        "\n",
        " deeplab.fit(dataset,\n",
        "            validation_data=val_data,\n",
        "            epochs=20, \n",
        "            callbacks=model_callback)\n",
        " \n",
        " deeplab.save('/content/drive/MyDrive/DeepLab/output/model.h5') \n",
        "\n",
        " # --- Evaluation Section ---\n",
        " eval(deeplab)"
      ],
      "execution_count": 37,
      "outputs": [
        {
          "output_type": "stream",
          "name": "stdout",
          "text": [
            "\n",
            "Epoch 1: LearningRateScheduler setting learning rate to 0.002.\n",
            "Epoch 1/20\n",
            "145/145 [==============================] - 32s 184ms/step - loss: 0.2771 - dice_coef: 0.7229 - iou: 0.5837 - val_loss: 1.0000 - val_dice_coef: 2.7837e-05 - val_iou: 1.3919e-05 - lr: 0.0020\n",
            "\n",
            "Epoch 2: LearningRateScheduler setting learning rate to 0.002.\n",
            "Epoch 2/20\n",
            "145/145 [==============================] - 23s 160ms/step - loss: 0.1625 - dice_coef: 0.8375 - iou: 0.7218 - val_loss: 1.0000 - val_dice_coef: 2.1253e-05 - val_iou: 1.0626e-05 - lr: 0.0020\n",
            "\n",
            "Epoch 3: LearningRateScheduler setting learning rate to 0.0019602.\n",
            "Epoch 3/20\n",
            "145/145 [==============================] - 24s 162ms/step - loss: 0.1308 - dice_coef: 0.8692 - iou: 0.7693 - val_loss: 0.9999 - val_dice_coef: 6.0474e-05 - val_iou: 3.0238e-05 - lr: 0.0020\n",
            "\n",
            "Epoch 4: LearningRateScheduler setting learning rate to 0.0019405980000000002.\n",
            "Epoch 4/20\n",
            "145/145 [==============================] - 24s 162ms/step - loss: 0.1135 - dice_coef: 0.8865 - iou: 0.7968 - val_loss: 1.0000 - val_dice_coef: 1.7168e-06 - val_iou: 8.5841e-07 - lr: 0.0019\n",
            "\n",
            "Epoch 5: LearningRateScheduler setting learning rate to 0.0019211920199999999.\n",
            "Epoch 5/20\n",
            "145/145 [==============================] - 23s 162ms/step - loss: 0.1045 - dice_coef: 0.8955 - iou: 0.8113 - val_loss: 1.0000 - val_dice_coef: 4.2829e-06 - val_iou: 2.1415e-06 - lr: 0.0019\n",
            "\n",
            "Epoch 6: LearningRateScheduler setting learning rate to 0.0019019800997999998.\n",
            "Epoch 6/20\n",
            "145/145 [==============================] - 25s 169ms/step - loss: 0.0997 - dice_coef: 0.9003 - iou: 0.8191 - val_loss: 0.5990 - val_dice_coef: 0.4010 - val_iou: 0.2515 - lr: 0.0019\n",
            "\n",
            "Epoch 7: LearningRateScheduler setting learning rate to 0.001882960298802.\n",
            "Epoch 7/20\n",
            "145/145 [==============================] - 24s 162ms/step - loss: 0.0950 - dice_coef: 0.9050 - iou: 0.8270 - val_loss: 0.5920 - val_dice_coef: 0.4080 - val_iou: 0.2564 - lr: 0.0019\n",
            "\n",
            "Epoch 8: LearningRateScheduler setting learning rate to 0.0018641306958139799.\n",
            "Epoch 8/20\n",
            "145/145 [==============================] - 24s 162ms/step - loss: 0.0923 - dice_coef: 0.9077 - iou: 0.8315 - val_loss: 0.1007 - val_dice_coef: 0.8993 - val_iou: 0.8172 - lr: 0.0019\n",
            "\n",
            "Epoch 9: LearningRateScheduler setting learning rate to 0.0018454893888558402.\n",
            "Epoch 9/20\n",
            "145/145 [==============================] - 24s 162ms/step - loss: 0.0907 - dice_coef: 0.9093 - iou: 0.8343 - val_loss: 0.2225 - val_dice_coef: 0.7775 - val_iou: 0.6364 - lr: 0.0018\n",
            "\n",
            "Epoch 10: LearningRateScheduler setting learning rate to 0.0018270344949672817.\n",
            "Epoch 10/20\n",
            "145/145 [==============================] - 23s 160ms/step - loss: 0.0881 - dice_coef: 0.9119 - iou: 0.8385 - val_loss: 0.1169 - val_dice_coef: 0.8831 - val_iou: 0.7907 - lr: 0.0018\n",
            "\n",
            "Epoch 11: LearningRateScheduler setting learning rate to 0.0018087641500176088.\n",
            "Epoch 11/20\n",
            "145/145 [==============================] - 24s 162ms/step - loss: 0.0871 - dice_coef: 0.9129 - iou: 0.8402 - val_loss: 0.0977 - val_dice_coef: 0.9023 - val_iou: 0.8221 - lr: 0.0018\n",
            "\n",
            "Epoch 12: LearningRateScheduler setting learning rate to 0.0017906765085174327.\n",
            "Epoch 12/20\n",
            "145/145 [==============================] - 23s 162ms/step - loss: 0.0861 - dice_coef: 0.9139 - iou: 0.8419 - val_loss: 0.1036 - val_dice_coef: 0.8964 - val_iou: 0.8124 - lr: 0.0018\n",
            "\n",
            "Epoch 13: LearningRateScheduler setting learning rate to 0.0017727697434322585.\n",
            "Epoch 13/20\n",
            "145/145 [==============================] - 23s 160ms/step - loss: 0.0830 - dice_coef: 0.9170 - iou: 0.8471 - val_loss: 0.0959 - val_dice_coef: 0.9041 - val_iou: 0.8250 - lr: 0.0018\n",
            "\n",
            "Epoch 14: LearningRateScheduler setting learning rate to 0.0017550420459979358.\n",
            "Epoch 14/20\n",
            "145/145 [==============================] - 24s 164ms/step - loss: 0.0803 - dice_coef: 0.9197 - iou: 0.8517 - val_loss: 0.0895 - val_dice_coef: 0.9105 - val_iou: 0.8359 - lr: 0.0018\n",
            "\n",
            "Epoch 15: LearningRateScheduler setting learning rate to 0.0017374916255379566.\n",
            "Epoch 15/20\n",
            "145/145 [==============================] - 24s 165ms/step - loss: 0.0790 - dice_coef: 0.9210 - iou: 0.8539 - val_loss: 0.1210 - val_dice_coef: 0.8790 - val_iou: 0.7843 - lr: 0.0017\n",
            "\n",
            "Epoch 16: LearningRateScheduler setting learning rate to 0.001720116709282577.\n",
            "Epoch 16/20\n",
            "145/145 [==============================] - 24s 165ms/step - loss: 0.0770 - dice_coef: 0.9230 - iou: 0.8574 - val_loss: 0.0847 - val_dice_coef: 0.9153 - val_iou: 0.8441 - lr: 0.0017\n",
            "\n",
            "Epoch 17: LearningRateScheduler setting learning rate to 0.0017029155421897512.\n",
            "Epoch 17/20\n",
            "145/145 [==============================] - 25s 171ms/step - loss: 0.0750 - dice_coef: 0.9250 - iou: 0.8608 - val_loss: 0.0821 - val_dice_coef: 0.9179 - val_iou: 0.8486 - lr: 0.0017\n",
            "\n",
            "Epoch 18: LearningRateScheduler setting learning rate to 0.0016858863867678536.\n",
            "Epoch 18/20\n",
            "145/145 [==============================] - 24s 163ms/step - loss: 0.0748 - dice_coef: 0.9252 - iou: 0.8612 - val_loss: 0.1652 - val_dice_coef: 0.8348 - val_iou: 0.7166 - lr: 0.0017\n",
            "\n",
            "Epoch 19: LearningRateScheduler setting learning rate to 0.001669027522900175.\n",
            "Epoch 19/20\n",
            "145/145 [==============================] - 24s 162ms/step - loss: 0.0738 - dice_coef: 0.9262 - iou: 0.8629 - val_loss: 0.0888 - val_dice_coef: 0.9112 - val_iou: 0.8370 - lr: 0.0017\n",
            "\n",
            "Epoch 20: LearningRateScheduler setting learning rate to 0.0016523372476711733.\n",
            "Epoch 20/20\n",
            "145/145 [==============================] - 24s 163ms/step - loss: 0.0730 - dice_coef: 0.9270 - iou: 0.8643 - val_loss: 0.1173 - val_dice_coef: 0.8827 - val_iou: 0.7906 - lr: 0.0017\n",
            "WARNING:tensorflow:6 out of the last 9 calls to <function Model.make_predict_function.<locals>.predict_function at 0x7f38a667d680> triggered tf.function retracing. Tracing is expensive and the excessive number of tracings could be due to (1) creating @tf.function repeatedly in a loop, (2) passing tensors with different shapes, (3) passing Python objects instead of tensors. For (1), please define your @tf.function outside of the loop. For (2), @tf.function has experimental_relax_shapes=True option that relaxes argument shapes that can avoid unnecessary retracing. For (3), please refer to https://www.tensorflow.org/guide/function#controlling_retracing and https://www.tensorflow.org/api_docs/python/tf/function for  more details.\n"
          ]
        },
        {
          "output_type": "stream",
          "name": "stderr",
          "text": [
            "WARNING:tensorflow:6 out of the last 9 calls to <function Model.make_predict_function.<locals>.predict_function at 0x7f38a667d680> triggered tf.function retracing. Tracing is expensive and the excessive number of tracings could be due to (1) creating @tf.function repeatedly in a loop, (2) passing tensors with different shapes, (3) passing Python objects instead of tensors. For (1), please define your @tf.function outside of the loop. For (2), @tf.function has experimental_relax_shapes=True option that relaxes argument shapes that can avoid unnecessary retracing. For (3), please refer to https://www.tensorflow.org/guide/function#controlling_retracing and https://www.tensorflow.org/api_docs/python/tf/function for  more details.\n",
            "WARNING:matplotlib.image:Clipping input data to the valid range for imshow with RGB data ([0..1] for floats or [0..255] for integers).\n"
          ]
        },
        {
          "output_type": "display_data",
          "data": {
            "text/plain": [
              "<Figure size 432x288 with 2 Axes>"
            ],
            "image/png": "[encoded data removed]"
          },
          "metadata": {
            "needs_background": "light"
          }
        }
      ]
    }
  ]
}