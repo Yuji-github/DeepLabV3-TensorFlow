{
  "nbformat": 4,
  "nbformat_minor": 0,
  "metadata": {
    "colab": {
      "name": "DeepLabv3+.ipynb",
      "provenance": [],
      "collapsed_sections": [],
      "authorship_tag": "ABX9TyNaaQ9o6ETFPj+U35iwP6Vs",
      "include_colab_link": true
    },
    "kernelspec": {
      "name": "python3",
      "display_name": "Python 3"
    },
    "language_info": {
      "name": "python"
    },
    "accelerator": "GPU"
  },
  "cells": [
    {
      "cell_type": "markdown",
      "metadata": {
        "id": "view-in-github",
        "colab_type": "text"
      },
      "source": [
        "<a href=\"https://colab.research.google.com/github/Yuji-github/DeepLabV3-TensorFlow/blob/main/DeepLabv3%2B.ipynb\" target=\"_parent\"><img src=\"https://colab.research.google.com/assets/colab-badge.svg\" alt=\"Open In Colab\"/></a>"
      ]
    },
    {
      "cell_type": "code",
      "metadata": {
        "colab": {
          "base_uri": "https://localhost:8080/"
        },
        "id": "iiu6iSWgsW6R",
        "outputId": "061f41f6-2857-49f4-d5b5-3ad59036e533"
      },
      "source": [
        "from google.colab import drive\n",
        "import glob, os\n",
        "import numpy as np\n",
        "from PIL import Image\n",
        "import cv2\n",
        "import matplotlib.pyplot as plt\n",
        "\n",
        "drive.mount('/content/drive')"
      ],
      "execution_count": null,
      "outputs": [
        {
          "output_type": "stream",
          "name": "stdout",
          "text": [
            "Mounted at /content/drive\n"
          ]
        }
      ]
    },
    {
      "cell_type": "code",
      "metadata": {
        "colab": {
          "base_uri": "https://localhost:8080/"
        },
        "id": "7XyUnjqMsvQI",
        "outputId": "02beace5-553b-456e-f172-eabd813d8ca6"
      },
      "source": [
        "%cd /content/drive/MyDrive/DeepLab/"
      ],
      "execution_count": null,
      "outputs": [
        {
          "output_type": "stream",
          "name": "stdout",
          "text": [
            "/content/drive/MyDrive/DeepLab\n"
          ]
        }
      ]
    },
    {
      "cell_type": "markdown",
      "metadata": {
        "id": "83LEPg_pySPc"
      },
      "source": [
        "For Data Loading"
      ]
    },
    {
      "cell_type": "code",
      "metadata": {
        "id": "Lv1AQzaqStHD"
      },
      "source": [
        "def read_image(path): \n",
        "  path = path.decode()  # without this, image is encoded\n",
        "  image = cv2.imread(path, cv2.IMREAD_COLOR)\n",
        "  image = image / 255.0 # normalization \n",
        "  image = cv2.resize(image, (128, 128)) # resize to 128x128   \n",
        "  image = image.astype(np.float32) # (128, 128, 3)\n",
        "\n",
        "  return image"
      ],
      "execution_count": null,
      "outputs": []
    },
    {
      "cell_type": "code",
      "metadata": {
        "id": "m-PnvrOzTNZN"
      },
      "source": [
        "def read_mask(path): \n",
        "  path = path.decode()  # without this, image is encoded\n",
        "  mask = cv2.imread(path, cv2.IMREAD_GRAYSCALE) # (128, 128)\n",
        "  mask = mask / 255.0 # normalization \n",
        "  mask = cv2.resize(mask, (128, 128)) # resize to 128x128  \n",
        "  mask = mask.astype(np.float32)\n",
        "  mask = np.expand_dims(mask, axis=-1) # (128, 128, 1)  \n",
        "  \n",
        "  return mask"
      ],
      "execution_count": null,
      "outputs": []
    },
    {
      "cell_type": "code",
      "metadata": {
        "id": "u8Nef8LqVA7k"
      },
      "source": [
        "def preprocess(image, mask): # map calls this function\n",
        "\n",
        "  def f(image, mask): # preprocess calls this function\n",
        "    \n",
        "    image = read_image(image) # params -> /content/drive/MyDrive/DeepLab/images/***.png \n",
        "    mask = read_mask(mask)\n",
        "    \n",
        "    return image, mask\n",
        "\n",
        "  images, masks = tf.numpy_function(f, [image, mask], [tf.float32, tf.float32])\n",
        "  images.set_shape([128, 128, 3]) # must match the first layer in deeplab\n",
        "  masks.set_shape([128, 128, 1]) # must match the last layer in deeplab\n",
        "\n",
        "  return  images, masks"
      ],
      "execution_count": null,
      "outputs": []
    },
    {
      "cell_type": "code",
      "metadata": {
        "id": "M2tJ1rhTUpm-"
      },
      "source": [
        "def tf_dataset(image, mask, batch=2): # default batch is 8\n",
        "  dataset = tf.data.Dataset.from_tensor_slices((image, mask))\n",
        "  dataset = dataset.map(preprocess) # map needs function\n",
        "  dataset = dataset.batch(batch)\n",
        "  dataset = dataset.prefetch(10)\n",
        "\n",
        "  return dataset"
      ],
      "execution_count": null,
      "outputs": []
    },
    {
      "cell_type": "code",
      "metadata": {
        "id": "74NRehM-xnu0"
      },
      "source": [
        "def data_load():\n",
        "  IMAGE_DIR = 'images'\n",
        "  MASK_DIR = 'masks'\n",
        "\n",
        "  imageList = []\n",
        "  maskList = []\n",
        "\n",
        "  for dirname, _, filenames in os.walk(IMAGE_DIR):\n",
        "      for filename in filenames:\n",
        "            imageList.append(os.path.join(dirname, filename))\n",
        "\n",
        "  for dirname, _, filenames in os.walk(MASK_DIR):\n",
        "      for filename in filenames:\n",
        "            maskList.append(os.path.join(dirname, filename))\n",
        "\n",
        "  imageList.sort() \n",
        "  maskList.sort()\n",
        "\n",
        "  dataset = tf_dataset(imageList, maskList, 8) # retunr is (16, 128, 128, 3) (16, 128, 128, 1)\n",
        "\n",
        "  return dataset"
      ],
      "execution_count": null,
      "outputs": []
    },
    {
      "cell_type": "code",
      "metadata": {
        "id": "SDno9t4ldhXY"
      },
      "source": [
        "def val_data_load(): # val dataset has 16 images\n",
        "  IMAGE_DIR = 'val_images'\n",
        "  MASK_DIR = 'val_masks'\n",
        "\n",
        "  val_imageList = []\n",
        "  val_maskList = []\n",
        "\n",
        "  for dirname, _, filenames in os.walk(IMAGE_DIR):\n",
        "      for filename in filenames:\n",
        "            val_imageList.append(os.path.join(dirname, filename))\n",
        "\n",
        "  for dirname, _, filenames in os.walk(MASK_DIR):\n",
        "      for filename in filenames:\n",
        "            val_maskList.append(os.path.join(dirname, filename))\n",
        "\n",
        "  val_imageList.sort() \n",
        "  val_maskList.sort()\n",
        "\n",
        "  val_dataset = tf_dataset(val_imageList, val_maskList, 8) # retunr is (8, 128, 128, 3) (8, 128, 128, 1)\n",
        "\n",
        "  return val_dataset"
      ],
      "execution_count": null,
      "outputs": []
    },
    {
      "cell_type": "markdown",
      "metadata": {
        "id": "jq8svsGzyOoN"
      },
      "source": [
        "DeepLabV3+"
      ]
    },
    {
      "cell_type": "code",
      "metadata": {
        "id": "RkNASVJsAa6J"
      },
      "source": [
        "import tensorflow as tf\n",
        "from tensorflow.keras.layers import Input, Conv2D, BatchNormalization, Activation, Concatenate, UpSampling2D, AveragePooling2D\n",
        "from tensorflow.keras.models import Model\n",
        "from tensorflow.keras.optimizers import Adam\n",
        "from tensorflow.keras.applications import ResNet50\n",
        "from tensorflow.data import Dataset, AUTOTUNE\n",
        "from keras.callbacks import LearningRateScheduler, ReduceLROnPlateau, EarlyStopping\n",
        "\n",
        "from sklearn.model_selection import train_test_split"
      ],
      "execution_count": null,
      "outputs": []
    },
    {
      "cell_type": "code",
      "metadata": {
        "id": "KRMF4s8ZM7M5"
      },
      "source": [
        "def backbone(input_shape): \n",
        "  i= Input(input_shape)\n",
        "\n",
        "  backbone = ResNet50(include_top=False, input_tensor=i) # when you have a tensor that you want to be the input.\n",
        "  \n",
        "  return (i, backbone.get_layer('conv4_block6_out').output, backbone.get_layer('conv2_block3_out').output)  # the last Resnet for encoding, other's for decoding layers are going back "
      ],
      "execution_count": null,
      "outputs": []
    },
    {
      "cell_type": "code",
      "metadata": {
        "id": "vBfHSj2hVVWu"
      },
      "source": [
        "def ASPP(input_shape): \n",
        "\n",
        "  pool_size = (input_shape.shape[1], input_shape.shape[2]) # assume (8, 8)\n",
        "  # ASPP Part\n",
        "\n",
        "  # --- Image Pooling ----\n",
        "  image_pool = AveragePooling2D(pool_size)(input_shape) # after this layer: (None, 1, 1, 2048)\n",
        "  image_pool = Conv2D(128, (1,1), padding='same', use_bias=False)(image_pool)\n",
        "  image_pool = BatchNormalization()(image_pool)\n",
        "  iamge_pool = Activation('relu')(image_pool) # after this layer: (None, 1, 1, 128)\n",
        "  image_pool = UpSampling2D(pool_size, interpolation='bilinear')(iamge_pool) # after this layer: (None, 8, 8, 128)\n",
        "\n",
        "  # --- 1x1 Conv ----\n",
        "  one = Conv2D(128, (1,1), padding='same', use_bias=False)(input_shape)\n",
        "  one = BatchNormalization()(one)\n",
        "  one = Activation('relu')(one) # after this layer: (None, 8, 8, 128)\n",
        "\n",
        "  # --- 3x3 Conv Rate 6 ----\n",
        "  rate_6 = Conv2D(128, (3,3), padding='same', use_bias=False, dilation_rate=6)(input_shape) # dilation_rate = 6 is key step \n",
        "  rate_6 = BatchNormalization()(rate_6)\n",
        "  rate_6 = Activation('relu')(rate_6) # after this layer: (None, 8, 8, 128)\n",
        "\n",
        "  # --- 3x3 Conv Rate 12 ----\n",
        "  rate_12 = Conv2D(128, (3,3), padding='same', use_bias=False, dilation_rate=12)(input_shape) # dilation_rate = 12 is key step \n",
        "  rate_12 = BatchNormalization()(rate_12)\n",
        "  rate_12 = Activation('relu')(rate_12) # after this layer: (None, 8, 8, 128)\n",
        "\n",
        "  # --- 3x3 Conv Rate 18 ----\n",
        "  rate_18 = Conv2D(128, (3,3), padding='same', use_bias=False, dilation_rate=18)(input_shape) # dilation_rate = 18 is key step \n",
        "  rate_18 = BatchNormalization()(rate_18)\n",
        "  rate_18 = Activation('relu')(rate_18) # after this layer: (None, 8, 8, 128)\n",
        "\n",
        "\n",
        "  # After ASPP Part  \n",
        "  # --- Concatenate ---- *Make Sure all sizes are the same before Concatenation\n",
        "  aspp = Concatenate()([image_pool, one, rate_6, rate_12, rate_18]) # after this layer: (None, 8, 8, 640) 640 from 128 feature each * 5\n",
        "  \n",
        "  # --- 1x1 Conv for UpSamling ----\n",
        "  for_up = Conv2D(128, (1,1), padding='same', use_bias=False)(aspp)\n",
        "  for_up = BatchNormalization()(for_up)\n",
        "  for_up = Activation('relu')(for_up) # after this layer: (None, 8, 8, 128)\n",
        "\n",
        "  return for_up"
      ],
      "execution_count": null,
      "outputs": []
    },
    {
      "cell_type": "code",
      "metadata": {
        "id": "-nadZRNj5jOV"
      },
      "source": [
        "def decoding(input_shape):  \n",
        "  decode_one = Conv2D(32, (1,1), padding='same', use_bias=False)(input_shape) # *output features are arbitrary\n",
        "  decode_one = BatchNormalization()(decode_one)\n",
        "  decode_one = Activation('relu')(decode_one) # after this layer: (None, 32, 32, 64)\n",
        "\n",
        "  return decode_one"
      ],
      "execution_count": null,
      "outputs": []
    },
    {
      "cell_type": "code",
      "metadata": {
        "id": "s74ObM0_98t3"
      },
      "source": [
        "def deeplabv3(input_shape):\n",
        "  # step1: get input shape of images\n",
        "  i = input_shape # suppose layer shape is (128, 128, 3)\n",
        "\n",
        "  # --- Encoding Section ----\n",
        "\n",
        "  # step2: through backbone (Resnet50)\n",
        "  # we can replace this backbone ResNeSt in the future \n",
        "\n",
        "  i, encode_layer, decode_layer = backbone(i) # retun shapes: encode (None, 8, 8, 1024), decode (None, 32, 32, 256)\n",
        "\n",
        "  # step3: pass the encode_layer to ASPP \n",
        "  end_encoding_layer = ASPP(encode_layer)  \n",
        "   \n",
        "  # step3-2: UpSamling for Concatenation \n",
        "  end_encoding_layer = UpSampling2D((4, 4), interpolation='bilinear')(end_encoding_layer) # after this layer: (None, 32, 32, 128) \n",
        "\n",
        "\n",
        "  # --- Decoding Section ---- need to get the same shape from ResNet (None, 32, 32, 256)\n",
        "\n",
        "  # step4: Decoding and Concatenating  \n",
        "  decode_one = decoding(decode_layer) \n",
        "\n",
        "  # step5: Concatenation \n",
        "  mix_layer = Concatenate()([end_encoding_layer, decode_one]) # after this layer: (None, 32, 32, 320)\n",
        "\n",
        "\n",
        "  # --- Prepare Output Section ---- \n",
        "  # step6: 3x3 Conv (at least 1 block needs *output features are arbitrary)\n",
        "  three = Conv2D(128, (3,3), padding='same', use_bias=False)(mix_layer) # for 256 Conv2D(256, (3,3),\n",
        "  three = BatchNormalization()(three)\n",
        "  three = Activation('relu')(three)\n",
        "\n",
        "  three = Conv2D(128, (3,3), padding='same', use_bias=False)(three) # for 256 Conv2D(512, (3,3),\n",
        "  three = BatchNormalization()(three)\n",
        "  three = Activation('relu')(three) # after this layer (None, 32, 32, 512)\n",
        "\n",
        "  # step7: end of Deeplabv3 make sure out put size is the same as input size\n",
        "  end_layer = UpSampling2D((4, 4), interpolation='bilinear')(three) # after this layer (None, 128, 128, 512)\n",
        "\n",
        "  # --- Output Section ---- \n",
        "  output = Conv2D(1, (1,1))(end_layer)\n",
        "  output = Activation('sigmoid')(output) # (None, 128, 128, 1)\n",
        "  \n",
        "  # model summary and compile\n",
        "  return Model(i, output)"
      ],
      "execution_count": null,
      "outputs": []
    },
    {
      "cell_type": "markdown",
      "metadata": {
        "id": "H77dKAGx-59M"
      },
      "source": [
        "Loss Function for Semantic Segmentation\n",
        "https://www.youtube.com/watch?v=AZr64OxshLo&t=785s More Info"
      ]
    },
    {
      "cell_type": "code",
      "metadata": {
        "id": "go8ggLzLCQ0I"
      },
      "source": [
        "def iou(y_true, y_pred):\n",
        "    def f(y_true, y_pred):\n",
        "        intersection = (y_true * y_pred).sum()\n",
        "        union = y_true.sum() + y_pred.sum() - intersection\n",
        "        x = (intersection + 1e-15) / (union + 1e-15)\n",
        "        x = x.astype(np.float32)\n",
        "        return x\n",
        "    return tf.numpy_function(f, [y_true, y_pred], tf.float32)"
      ],
      "execution_count": null,
      "outputs": []
    },
    {
      "cell_type": "code",
      "metadata": {
        "id": "yWV-IzIFCRvm"
      },
      "source": [
        "def dice_coef(y_true, y_pred):\n",
        "    smooth = 1e-15\n",
        "    y_true = tf.keras.layers.Flatten()(y_true)\n",
        "    y_pred = tf.keras.layers.Flatten()(y_pred)\n",
        "    intersection = tf.reduce_sum(y_true * y_pred)\n",
        "    return (2. * intersection + smooth) / (tf.reduce_sum(y_true) + tf.reduce_sum(y_pred) + smooth)"
      ],
      "execution_count": null,
      "outputs": []
    },
    {
      "cell_type": "code",
      "metadata": {
        "id": "waL3JoFufhF6"
      },
      "source": [
        "def dice_loss(y_true, y_pred): \n",
        "  # this part is dice_coef\n",
        "  # y_true = tf.cast(y_true, tf.float32)\n",
        "  # y_pred = tf.math.sigmoid(y_pred)\n",
        "\n",
        "  # numerator = 2 * tf.reduce_sum(y_true * y_pred)\n",
        "  # denominator = tf.reduce_sum(y_true + y_pred)\n",
        "\n",
        "  # must be 1 - dice_coef for backpropagation\n",
        "  return 1 - dice_coef(y_true, y_pred) # 1- numerator/denominator"
      ],
      "execution_count": null,
      "outputs": []
    },
    {
      "cell_type": "markdown",
      "metadata": {
        "id": "y-o-Eh0s-1Oa"
      },
      "source": [
        "Call Back"
      ]
    },
    {
      "cell_type": "code",
      "metadata": {
        "id": "cGmO4RtYkm6l"
      },
      "source": [
        "def lr_decay(epoch):\n",
        "    initial_learningrate=2e-3\n",
        "    if epoch < 2:\n",
        "        return initial_learningrate\n",
        "    else:\n",
        "        return initial_learningrate * 0.99 ** epoch"
      ],
      "execution_count": null,
      "outputs": []
    },
    {
      "cell_type": "markdown",
      "metadata": {
        "id": "BJFaJVxOCoCk"
      },
      "source": [
        "Prediction (Vizulaization)"
      ]
    },
    {
      "cell_type": "code",
      "metadata": {
        "colab": {
          "base_uri": "https://localhost:8080/",
          "height": 304
        },
        "id": "y5yEhxOneA0E",
        "outputId": "e22f33ae-570f-4798-e57f-b8e7bb3ca0db"
      },
      "source": [
        "path = '/content/drive/MyDrive/DeepLab/test_iamge/HipHop_HipHop1_C0_00180.png'\n",
        "\n",
        "\"\"\" Getting an image \"\"\"\n",
        "image = cv2.imread(path, cv2.IMREAD_COLOR)\n",
        "h, w, _ = image.shape # to back to the original size (predict_mask)\n",
        "x = cv2.resize(image, (128, 128))\n",
        "x = x/255.0 # normalization values are 0-1\n",
        "x = x.astype(np.float32)\n",
        "x = np.expand_dims(x, axis=0) # (1, 128, 128, 3)\n",
        "\n",
        "\"\"\" Prediction the mask \"\"\"\n",
        "y = deeplab.predict(x)[0] # (128, 128, 1) [0]-> drop off the first dim, this case 1\n",
        "y = cv2.resize(y, (w, h)) # (384, 512)\n",
        "y = np.expand_dims(y, axis=-1) # (384, 512, 1) to plot the image\n",
        "masked_image = image * y # must do this part to get back the values\n",
        "plt.imshow(masked_image)"
      ],
      "execution_count": 54,
      "outputs": [
        {
          "output_type": "stream",
          "name": "stderr",
          "text": [
            "Clipping input data to the valid range for imshow with RGB data ([0..1] for floats or [0..255] for integers).\n"
          ]
        },
        {
          "output_type": "execute_result",
          "data": {
            "text/plain": [
              "<matplotlib.image.AxesImage at 0x7f688421cf10>"
            ]
          },
          "metadata": {},
          "execution_count": 54
        },
        {
          "output_type": "display_data",
          "data": {
            "image/png": "[encoded data removed]",
            "text/plain": [
              "<Figure size 432x288 with 1 Axes>"
            ]
          },
          "metadata": {
            "needs_background": "light"
          }
        }
      ]
    },
    {
      "cell_type": "code",
      "metadata": {
        "colab": {
          "base_uri": "https://localhost:8080/",
          "height": 286
        },
        "id": "b0LR1dz7DJzd",
        "outputId": "be4a0987-edca-4d6d-e58f-7242a50a5bbd"
      },
      "source": [
        "t = '/content/drive/MyDrive/DeepLab/test_mask/HipHop_HipHop1_C0_00180.png'\n",
        "t_image = cv2.imread(t)\n",
        "plt.imshow(t_image)"
      ],
      "execution_count": null,
      "outputs": [
        {
          "output_type": "execute_result",
          "data": {
            "text/plain": [
              "<matplotlib.image.AxesImage at 0x7f68fd159b90>"
            ]
          },
          "metadata": {},
          "execution_count": 30
        },
        {
          "output_type": "display_data",
          "data": {
            "image/png": "[encoded data removed]",
            "text/plain": [
              "<Figure size 432x288 with 1 Axes>"
            ]
          },
          "metadata": {
            "needs_background": "light"
          }
        }
      ]
    },
    {
      "cell_type": "code",
      "metadata": {
        "id": "oyju_axfPK2O",
        "colab": {
          "base_uri": "https://localhost:8080/"
        },
        "outputId": "bc0eea06-03da-4e2e-9e04-e5430835511a"
      },
      "source": [
        "if __name__ == \"__main__\":\n",
        "\n",
        " # -- Data Loading Section ---  \n",
        " dataset = data_load() # get 128x128 images (numpy, values[pixels] are between 0-1)\n",
        " val_data = val_data_load()\n",
        "\n",
        " # -- Building Model Section --- \n",
        " i = (128, 128, 3) \n",
        " deeplab = deeplabv3(i)\n",
        "\n",
        " # --- Compile Section ---- binary_entrophy is okay as masks are black and white, but not suitable \n",
        " deeplab.compile(optimizer=Adam(), loss=dice_loss, metrics=[dice_coef, iou])\n",
        "\n",
        " # print(deeplab.summary()) # check neural networks  \n",
        "\n",
        " # --- Training Section ---\n",
        " model_callback = [\n",
        "        LearningRateScheduler(lr_decay, verbose=1),\n",
        "        ReduceLROnPlateau(monitor='val_loss', factor=0.1, patience=5, min_lr=1e-7, verbose=1),\n",
        "        ]\n",
        "\n",
        " deeplab.fit(dataset,\n",
        "            validation_data=val_data,\n",
        "            epochs=20, \n",
        "            callbacks=model_callback)\n",
        " \n",
        " deeplab.save('/content/drive/MyDrive/DeepLab/output/model.h5') \n",
        " # --- Evaluation Section ---"
      ],
      "execution_count": null,
      "outputs": [
        {
          "output_type": "stream",
          "name": "stdout",
          "text": [
            "Epoch 1/20\n",
            "\n",
            "Epoch 00001: LearningRateScheduler setting learning rate to 0.002.\n",
            "145/145 [==============================] - 40s 230ms/step - loss: 0.2909 - dice_coef: 0.7091 - iou: 0.5708 - val_loss: 1.0000 - val_dice_coef: 3.7800e-06 - val_iou: 1.8900e-06\n",
            "Epoch 2/20\n",
            "\n",
            "Epoch 00002: LearningRateScheduler setting learning rate to 0.002.\n",
            "145/145 [==============================] - 32s 222ms/step - loss: 0.1651 - dice_coef: 0.8349 - iou: 0.7184 - val_loss: 1.0000 - val_dice_coef: 9.0493e-06 - val_iou: 4.5247e-06\n",
            "Epoch 3/20\n",
            "\n",
            "Epoch 00003: LearningRateScheduler setting learning rate to 0.0019602.\n",
            "145/145 [==============================] - 33s 223ms/step - loss: 0.1315 - dice_coef: 0.8685 - iou: 0.7683 - val_loss: 1.0000 - val_dice_coef: 9.3110e-07 - val_iou: 4.6555e-07\n",
            "Epoch 4/20\n",
            "\n",
            "Epoch 00004: LearningRateScheduler setting learning rate to 0.0019405980000000002.\n",
            "145/145 [==============================] - 33s 223ms/step - loss: 0.1164 - dice_coef: 0.8836 - iou: 0.7921 - val_loss: 1.0000 - val_dice_coef: 1.5498e-06 - val_iou: 7.7489e-07\n",
            "Epoch 5/20\n",
            "\n",
            "Epoch 00005: LearningRateScheduler setting learning rate to 0.0019211920199999999.\n",
            "145/145 [==============================] - 33s 223ms/step - loss: 0.1089 - dice_coef: 0.8911 - iou: 0.8042 - val_loss: 1.0000 - val_dice_coef: 8.6844e-07 - val_iou: 4.3422e-07\n",
            "Epoch 6/20\n",
            "\n",
            "Epoch 00006: LearningRateScheduler setting learning rate to 0.0019019800997999998.\n",
            "145/145 [==============================] - 33s 223ms/step - loss: 0.1016 - dice_coef: 0.8984 - iou: 0.8162 - val_loss: 0.4870 - val_dice_coef: 0.5130 - val_iou: 0.3451\n",
            "Epoch 7/20\n",
            "\n",
            "Epoch 00007: LearningRateScheduler setting learning rate to 0.001882960298802.\n",
            "145/145 [==============================] - 32s 222ms/step - loss: 0.0963 - dice_coef: 0.9037 - iou: 0.8248 - val_loss: 0.1210 - val_dice_coef: 0.8790 - val_iou: 0.7841\n",
            "Epoch 8/20\n",
            "\n",
            "Epoch 00008: LearningRateScheduler setting learning rate to 0.0018641306958139799.\n",
            "145/145 [==============================] - 32s 221ms/step - loss: 0.0939 - dice_coef: 0.9061 - iou: 0.8288 - val_loss: 0.1435 - val_dice_coef: 0.8565 - val_iou: 0.7490\n",
            "Epoch 9/20\n",
            "\n",
            "Epoch 00009: LearningRateScheduler setting learning rate to 0.0018454893888558402.\n",
            "145/145 [==============================] - 32s 221ms/step - loss: 0.0909 - dice_coef: 0.9091 - iou: 0.8338 - val_loss: 0.1028 - val_dice_coef: 0.8972 - val_iou: 0.8136\n",
            "Epoch 10/20\n",
            "\n",
            "Epoch 00010: LearningRateScheduler setting learning rate to 0.0018270344949672817.\n",
            "145/145 [==============================] - 32s 221ms/step - loss: 0.0906 - dice_coef: 0.9094 - iou: 0.8342 - val_loss: 0.1899 - val_dice_coef: 0.8101 - val_iou: 0.6809\n",
            "Epoch 11/20\n",
            "\n",
            "Epoch 00011: LearningRateScheduler setting learning rate to 0.0018087641500176088.\n",
            "145/145 [==============================] - 32s 222ms/step - loss: 0.0891 - dice_coef: 0.9109 - iou: 0.8369 - val_loss: 0.1880 - val_dice_coef: 0.8120 - val_iou: 0.6842\n",
            "Epoch 12/20\n",
            "\n",
            "Epoch 00012: LearningRateScheduler setting learning rate to 0.0017906765085174327.\n",
            "145/145 [==============================] - 32s 221ms/step - loss: 0.0902 - dice_coef: 0.9098 - iou: 0.8351 - val_loss: 0.0912 - val_dice_coef: 0.9088 - val_iou: 0.8330\n",
            "Epoch 13/20\n",
            "\n",
            "Epoch 00013: LearningRateScheduler setting learning rate to 0.0017727697434322585.\n",
            "145/145 [==============================] - 32s 221ms/step - loss: 0.0844 - dice_coef: 0.9156 - iou: 0.8448 - val_loss: 0.1073 - val_dice_coef: 0.8927 - val_iou: 0.8064\n",
            "Epoch 14/20\n",
            "\n",
            "Epoch 00014: LearningRateScheduler setting learning rate to 0.0017550420459979358.\n",
            "145/145 [==============================] - 32s 220ms/step - loss: 0.0818 - dice_coef: 0.9182 - iou: 0.8493 - val_loss: 0.0845 - val_dice_coef: 0.9155 - val_iou: 0.8441\n",
            "Epoch 15/20\n",
            "\n",
            "Epoch 00015: LearningRateScheduler setting learning rate to 0.0017374916255379566.\n",
            "145/145 [==============================] - 32s 221ms/step - loss: 0.0811 - dice_coef: 0.9189 - iou: 0.8504 - val_loss: 0.0979 - val_dice_coef: 0.9021 - val_iou: 0.8218\n",
            "Epoch 16/20\n",
            "\n",
            "Epoch 00016: LearningRateScheduler setting learning rate to 0.001720116709282577.\n",
            "145/145 [==============================] - 32s 222ms/step - loss: 0.0791 - dice_coef: 0.9209 - iou: 0.8538 - val_loss: 0.0841 - val_dice_coef: 0.9159 - val_iou: 0.8450\n",
            "Epoch 17/20\n",
            "\n",
            "Epoch 00017: LearningRateScheduler setting learning rate to 0.0017029155421897512.\n",
            "145/145 [==============================] - 32s 222ms/step - loss: 0.0770 - dice_coef: 0.9230 - iou: 0.8575 - val_loss: 0.0841 - val_dice_coef: 0.9159 - val_iou: 0.8449\n",
            "Epoch 18/20\n",
            "\n",
            "Epoch 00018: LearningRateScheduler setting learning rate to 0.0016858863867678536.\n",
            "145/145 [==============================] - 32s 223ms/step - loss: 0.0751 - dice_coef: 0.9249 - iou: 0.8607 - val_loss: 0.1130 - val_dice_coef: 0.8870 - val_iou: 0.7971\n",
            "Epoch 19/20\n",
            "\n",
            "Epoch 00019: LearningRateScheduler setting learning rate to 0.001669027522900175.\n",
            "145/145 [==============================] - 32s 222ms/step - loss: 0.0744 - dice_coef: 0.9256 - iou: 0.8620 - val_loss: 0.0913 - val_dice_coef: 0.9087 - val_iou: 0.8328\n",
            "Epoch 20/20\n",
            "\n",
            "Epoch 00020: LearningRateScheduler setting learning rate to 0.0016523372476711733.\n",
            "145/145 [==============================] - 32s 222ms/step - loss: 0.0731 - dice_coef: 0.9269 - iou: 0.8642 - val_loss: 0.0757 - val_dice_coef: 0.9243 - val_iou: 0.8593\n"
          ]
        },
        {
          "output_type": "stream",
          "name": "stderr",
          "text": [
            "/usr/local/lib/python3.7/dist-packages/keras/utils/generic_utils.py:497: CustomMaskWarning: Custom mask layers require a config and must override get_config. When loading, the custom mask layer must be passed to the custom_objects argument.\n",
            "  category=CustomMaskWarning)\n"
          ]
        }
      ]
    }
  ]
}